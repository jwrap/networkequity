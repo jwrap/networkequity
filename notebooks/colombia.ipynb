{
 "cells": [
  {
   "cell_type": "code",
   "execution_count": 1,
   "metadata": {},
   "outputs": [
    {
     "name": "stderr",
     "output_type": "stream",
     "text": [
      "\n",
      "Bad key \"text.kerning_factor\" on line 4 in\n",
      "C:\\Users\\jryap\\anaconda3\\envs\\tnc\\lib\\site-packages\\matplotlib\\mpl-data\\stylelib\\_classic_test_patch.mplstyle.\n",
      "You probably need to get an updated matplotlibrc file from\n",
      "https://github.com/matplotlib/matplotlib/blob/v3.1.2/matplotlibrc.template\n",
      "or from the matplotlib source distribution\n"
     ]
    }
   ],
   "source": [
    "import pyproj\n",
    "import numpy as np\n",
    "import pandas as pd\n",
    "import geopandas as gpd\n",
    "import osmnx as ox\n",
    "import networkx as nx\n",
    "import shapely\n",
    "from shapely.wkt import loads\n",
    "from shapely.geometry import LineString, MultiLineString, Polygon, MultiPolygon, Point, box, shape\n",
    "from matplotlib import pyplot as plt\n",
    "import contextily as ctx\n",
    "import seaborn as sns"
   ]
  },
  {
   "cell_type": "code",
   "execution_count": 2,
   "metadata": {},
   "outputs": [],
   "source": [
    "import rasterio\n",
    "from rasterio.plot import show\n",
    "from rasterstats import zonal_stats, point_query\n",
    "import rioxarray\n",
    "import xarray\n",
    "import GOSTnets as gn"
   ]
  },
  {
   "cell_type": "code",
   "execution_count": 3,
   "metadata": {},
   "outputs": [],
   "source": [
    "# do not display warnings\n",
    "import warnings\n",
    "warnings.filterwarnings(\"ignore\")\n",
    "import json, os, sys\n",
    "# add to your system path the location of the LoadOSM.py and GOSTnet.py scripts\n",
    "sys.path.append(f\"{os.getcwd()}/../src\") #adds the GOSTNets library relative to the path of the current notebook\n",
    "from toolbox_old import connect_poi"
   ]
  },
  {
   "cell_type": "code",
   "execution_count": 4,
   "metadata": {},
   "outputs": [],
   "source": [
    "country_ISO = \"COL\"\n",
    "data_path = f\"{os.getcwd()}/../data/{country_ISO}\"\n",
    "\n",
    "dirs = [\"ta-lab\", \"results\", \"results/ranks-scores\", \"network_processing\", \"wb_network\"]\n",
    "\n",
    "for i in dirs:\n",
    "    if not os.path.exists(f\"{data_path}/{i}\"):\n",
    "        print(f'Successfully created new directory {data_path}/{i}')\n",
    "        try:\n",
    "            os.makedirs(f\"{data_path}/{i}\")\n",
    "        except:\n",
    "            continue\n",
    "\n",
    "gadm = gpd.read_file(f\"{data_path}/L2_adm/{country_ISO}_adm2.shp\")\n",
    "gadm = gadm.to_crs({'init':'epsg:4326'})"
   ]
  },
  {
   "cell_type": "code",
   "execution_count": 5,
   "metadata": {},
   "outputs": [],
   "source": [
    "worldpop = rasterio.open(f\"{data_path}/{country_ISO.lower()}_ppp_2020_constrained.tif\")"
   ]
  },
  {
   "cell_type": "code",
   "execution_count": 6,
   "metadata": {},
   "outputs": [],
   "source": [
    "population = pd.DataFrame(zonal_stats(gadm, worldpop.read(1), affine=worldpop.transform,\n",
    "                                   stats='sum', nodata=worldpop.nodata)).rename(columns={'sum':'pop'})"
   ]
  },
  {
   "cell_type": "code",
   "execution_count": 7,
   "metadata": {},
   "outputs": [],
   "source": [
    "# nc_filename = \"GDP_per_capita_PPP_1990_2015_v2\"\n",
    "# rds = xarray.open_dataarray(f\"{os.getcwd()}/../data/_GDPGriddedData/{nc_filename}.nc\")\n",
    "# rds = rds.rio.set_crs(4326)\n",
    "# rds.rio.to_raster(f\"{os.getcwd()}/../data/_GDPGriddedData/{nc_filename}.tif\",\n",
    "#                   compress=\"lzma\", dtype=\"float64\")"
   ]
  },
  {
   "cell_type": "code",
   "execution_count": 8,
   "metadata": {},
   "outputs": [],
   "source": [
    "gdp = rasterio.open(f\"{os.getcwd()}/../data/_GDPGriddedData/GDP_per_capita_PPP_1990_2015_v2.tif\")\n",
    "gdp = pd.DataFrame(zonal_stats(gadm, gdp.read(26),\n",
    "                                       affine=gdp.transform, stats='mean',\n",
    "                                       nodata=gdp.nodata)).rename(columns={\"mean\":\"gdp\"}) # as in mean GDP/capita"
   ]
  },
  {
   "cell_type": "code",
   "execution_count": 9,
   "metadata": {},
   "outputs": [],
   "source": [
    "gadm = gadm.join([population, gdp])\n",
    "gadm[\"Shape_Area\"] = gadm[\"geometry\"].area\n",
    "gadm[\"pop_dens\"] = gadm[\"pop\"]/gadm[\"Shape_Area\"]"
   ]
  },
  {
   "cell_type": "code",
   "execution_count": 10,
   "metadata": {},
   "outputs": [
    {
     "data": {
      "image/png": "[encoded data removed]",
      "text/plain": [
       "<Figure size 1080x216 with 4 Axes>"
      ]
     },
     "metadata": {
      "needs_background": "light"
     },
     "output_type": "display_data"
    }
   ],
   "source": [
    "plots = [\"gdp\", \"pop\", \"pop_dens\", \"Shape_Area\"]\n",
    "fig, ax = plt.subplots(ncols=4, figsize=(15,3))\n",
    "for i in range(len(plots)):\n",
    "    sns.boxplot(ax=ax[i], data=gadm, y=plots[i])\n",
    "    ax[i].set_title(f\"{plots[i]}\")\n",
    "plt.tight_layout()"
   ]
  },
  {
   "cell_type": "markdown",
   "metadata": {},
   "source": [
    "__Scale population numbers to be between 0.1 and 1.01. Scaling between 0 and 1 gives rise to issues when calculating equalized OD matrix later on.__"
   ]
  },
  {
   "cell_type": "code",
   "execution_count": 11,
   "metadata": {},
   "outputs": [
    {
     "data": {
      "text/plain": [
       "<matplotlib.collections.PathCollection at 0x1a70cc98148>"
      ]
     },
     "execution_count": 11,
     "metadata": {},
     "output_type": "execute_result"
    },
    {
     "data": {
      "image/png": "[encoded data removed]",
      "text/plain": [
       "<Figure size 432x288 with 1 Axes>"
      ]
     },
     "metadata": {
      "needs_background": "light"
     },
     "output_type": "display_data"
    }
   ],
   "source": [
    "plt.style.use('retro')\n",
    "gadm[\"pop_normalized\"] = gadm.apply(lambda x:(0.01+(x[\"pop_dens\"]-gadm[\"pop_dens\"].min())/(gadm[\"pop_dens\"].max()-gadm[\"pop_dens\"].min())), axis=1)\n",
    "gadm[\"gdp_normalized\"] = gadm.apply(lambda x:(0.01+(x[\"gdp\"]-gadm[\"gdp\"].min())/(gadm[\"gdp\"].max()-gadm[\"gdp\"].min())), axis=1)\n",
    "plt.scatter(gadm[\"pop_normalized\"], gadm[\"gdp_normalized\"])"
   ]
  },
  {
   "cell_type": "code",
   "execution_count": 12,
   "metadata": {},
   "outputs": [],
   "source": [
    "centroids = gadm.copy()\n",
    "centroids.geometry = centroids.centroid\n",
    "country = gadm.dissolve(by=\"NAME_0\") # is this needed?"
   ]
  },
  {
   "cell_type": "code",
   "execution_count": 13,
   "metadata": {},
   "outputs": [],
   "source": [
    "# load edges from road_path\n",
    "edges = pd.read_csv(f'{data_path}/wb_network/output/{country_ISO}_processed_edges.csv')\n",
    "\n",
    "# ensure we have a field for each edge called 'highway'\n",
    "edges.rename({'infra_type':'highway'},axis=1,inplace=True)\n",
    "\n",
    "# make the geometry field equal to the loaded WKT shapely geometry currently stored as string in the 'geometry' field\n",
    "s = edges['geometry']\n",
    "l = s.apply(shapely.wkt.loads)\n",
    "edges.geometry=l\n",
    "\n",
    "# with these bit assembled, make the edges GeoDataFrame\n",
    "edges = gpd.GeoDataFrame(edges)\n",
    "\n",
    "# send the edges to a shapefile for later analysis / checking\n",
    "edges.to_file(f'{data_path}/wb_network/{country_ISO}_processed_edges.shp')"
   ]
  },
  {
   "cell_type": "code",
   "execution_count": 14,
   "metadata": {},
   "outputs": [],
   "source": [
    "# Here we read in the edges shapefile as a networkx object (WARNING - in future, read a gpickle - much cleaner)\n",
    "graph = nx.read_shp(f'{data_path}/wb_network/{country_ISO}_processed_edges.shp')"
   ]
  },
  {
   "cell_type": "code",
   "execution_count": 15,
   "metadata": {},
   "outputs": [],
   "source": [
    "# here we label up the nodes\n",
    "z = 0\n",
    "mapping = {}\n",
    "for u, data in graph.nodes(data = True):\n",
    "    data['x'] = u[0]\n",
    "    data['y'] = u[1]\n",
    "    mapping[u] = z\n",
    "    z += 1"
   ]
  },
  {
   "cell_type": "code",
   "execution_count": 16,
   "metadata": {},
   "outputs": [],
   "source": [
    "# Relabel nodes with integer value\n",
    "graph = nx.relabel_nodes(graph, mapping, copy=True)"
   ]
  },
  {
   "cell_type": "code",
   "execution_count": 17,
   "metadata": {},
   "outputs": [],
   "source": [
    "# Convert to MultiDigraph - add reflected edges\n",
    "new_edge_bucket = []"
   ]
  },
  {
   "cell_type": "code",
   "execution_count": 18,
   "metadata": {},
   "outputs": [],
   "source": [
    "# set up the integer edge ID counter field.\n",
    "edge_id = 0\n",
    "for u,v, data in graph.edges(data = True):\n",
    "    data['edge_id'] = edge_id\n",
    "    # here, I am specifying the inverse of the edge currently under consideration\n",
    "    # and adding that with the same 'id' property as the current edge. So, the reflected edge will have the same ID. important!\n",
    "    new_edge = (v,u, data)\n",
    "\n",
    "    # add the new edge to the new edge bucket\n",
    "    new_edge_bucket.append(new_edge)\n",
    "    edge_id += 1"
   ]
  },
  {
   "cell_type": "code",
   "execution_count": 19,
   "metadata": {},
   "outputs": [],
   "source": [
    "# add everything in the new edge bucket to the graph\n",
    "graph.add_edges_from(new_edge_bucket)"
   ]
  },
  {
   "cell_type": "code",
   "execution_count": 20,
   "metadata": {},
   "outputs": [],
   "source": [
    "# set up an edge and node GDF\n",
    "graph_df = gn.edge_gdf_from_graph(graph)\n",
    "node_df = gn.node_gdf_from_graph(graph)"
   ]
  },
  {
   "cell_type": "code",
   "execution_count": 21,
   "metadata": {},
   "outputs": [
    {
     "name": "stdout",
     "output_type": "stream",
     "text": [
      "Wall time: 32.5 ms\n"
     ]
    }
   ],
   "source": [
    "%%time\n",
    "sorted_graph = sorted(nx.weakly_connected_components(graph), key = len, reverse=True)"
   ]
  },
  {
   "cell_type": "code",
   "execution_count": 22,
   "metadata": {},
   "outputs": [],
   "source": [
    "largest_connected = graph.copy()"
   ]
  },
  {
   "cell_type": "code",
   "execution_count": 23,
   "metadata": {},
   "outputs": [
    {
     "name": "stdout",
     "output_type": "stream",
     "text": [
      "Wall time: 665 ms\n"
     ]
    }
   ],
   "source": [
    "%%time\n",
    "largest_connected.remove_nodes_from([n for n in largest_connected if n not in set(sorted_graph[0])])"
   ]
  },
  {
   "cell_type": "code",
   "execution_count": 24,
   "metadata": {},
   "outputs": [],
   "source": [
    "graph_df = gn.edge_gdf_from_graph(largest_connected)\n",
    "node_df = gn.node_gdf_from_graph(largest_connected)"
   ]
  },
  {
   "cell_type": "code",
   "execution_count": 25,
   "metadata": {},
   "outputs": [],
   "source": [
    "graph_df = graph_df[['stnode', 'endnode', 'osm_id', 'id',\n",
    "       'Type', 'country', 'ShpName', 'length',\n",
    "       'highway', 'edge_id', 'geometry']]\n",
    "graph_df.columns=['stnode', 'x', 'endnode', 'y', 'osm_id', 'id',\n",
    "       'Type', 'country', 'ShpName', 'length',\n",
    "       'highway', 'edge_id', 'geometry']"
   ]
  },
  {
   "cell_type": "code",
   "execution_count": 26,
   "metadata": {},
   "outputs": [],
   "source": [
    "graph_df.drop(['x', 'y'], axis=1, inplace=True)"
   ]
  },
  {
   "cell_type": "code",
   "execution_count": 85,
   "metadata": {},
   "outputs": [
    {
     "name": "stdout",
     "output_type": "stream",
     "text": [
      "Building rtree...\n",
      "Updating external nodes...\n",
      "Projecting POIs to the network...\n",
      "Updating internal nodes...\n",
      "Updating internal edges...\n",
      "Updating external links...\n",
      "Remove faulty projections: 0/1065 (0.00%)\n",
      "NOTE: duplication in node coordinates keys\n",
      "Nodes count: 11729\n",
      "Node coordinates key count: 11475\n",
      "Missing 'from' nodes: 0\n",
      "Missing 'to' nodes: 0\n"
     ]
    }
   ],
   "source": [
    "connected_nodes, connected_edges = connect_poi(centroids, node_df, graph_df, key_col= \"GID_2\", threshold=1000000)"
   ]
  },
  {
   "cell_type": "code",
   "execution_count": 86,
   "metadata": {},
   "outputs": [
    {
     "data": {
      "image/png": "[encoded data removed]",
      "text/plain": [
       "<Figure size 432x288 with 1 Axes>"
      ]
     },
     "metadata": {
      "needs_background": "light"
     },
     "output_type": "display_data"
    }
   ],
   "source": [
    "bp = sns.boxplot(data=connected_edges[connected_edges.highway==\"projected_footway\"], y=\"length\")\n",
    "plt.savefig(f'{data_path}/network_processing/{country_ISO}_projected_links.png')"
   ]
  },
  {
   "cell_type": "code",
   "execution_count": 87,
   "metadata": {},
   "outputs": [],
   "source": [
    "connected_edges.to_file(f'{data_path}/network_processing/{country_ISO}_fully_connected.shp')"
   ]
  },
  {
   "cell_type": "code",
   "execution_count": 88,
   "metadata": {},
   "outputs": [],
   "source": [
    "# Here we read in the edges shapefile as a networkx object (WARNING - in future, read a gpickle - much cleaner)\n",
    "graph = nx.read_shp(f'{data_path}/network_processing/{country_ISO}_fully_connected.shp')"
   ]
  },
  {
   "cell_type": "code",
   "execution_count": 89,
   "metadata": {},
   "outputs": [],
   "source": [
    "# here we label up the nodes\n",
    "z = 0\n",
    "mapping = {}\n",
    "for u, data in graph.nodes(data = True):\n",
    "    data['x'] = u[0]\n",
    "    data['y'] = u[1]\n",
    "    mapping[u] = z\n",
    "    z += 1"
   ]
  },
  {
   "cell_type": "code",
   "execution_count": 90,
   "metadata": {},
   "outputs": [],
   "source": [
    "# Relabel nodes with integer value\n",
    "graph = nx.relabel_nodes(graph, mapping, copy=True)"
   ]
  },
  {
   "cell_type": "code",
   "execution_count": 91,
   "metadata": {},
   "outputs": [],
   "source": [
    "# Convert to MultiDigraph - add reflected edges\n",
    "new_edge_bucket = []"
   ]
  },
  {
   "cell_type": "code",
   "execution_count": 92,
   "metadata": {},
   "outputs": [],
   "source": [
    "# set up the integer edge ID counter field.\n",
    "edge_id = 0\n",
    "for u,v, data in graph.edges(data = True):\n",
    "    data['edge_id'] = edge_id\n",
    "    # here, I am specifying the inverse of the edge currently under consideration\n",
    "    # and adding that with the same 'id' property as the current edge. So, the reflected edge will have the same ID. important!\n",
    "    new_edge = (v,u, data)\n",
    "\n",
    "    # add the new edge to the new edge bucket\n",
    "    new_edge_bucket.append(new_edge)\n",
    "    edge_id += 1"
   ]
  },
  {
   "cell_type": "code",
   "execution_count": 93,
   "metadata": {},
   "outputs": [],
   "source": [
    "# add everything in the new edge bucket to the graph\n",
    "graph.add_edges_from(new_edge_bucket)"
   ]
  },
  {
   "cell_type": "code",
   "execution_count": 94,
   "metadata": {},
   "outputs": [],
   "source": [
    "# Add time attribute to edges. All speeds in kmph\n",
    "speed_d = {\n",
    "'motorway':80,\n",
    "'motorway_link': 65,\n",
    "'trunk': 60,\n",
    "'trunk_link':50,\n",
    "'primary': 50, # kmph\n",
    "'primary_link':40,\n",
    "'secondary': 40, # kmph\n",
    "'secondary_link':30,\n",
    "'tertiary':30,\n",
    "'tertiary_link': 20,\n",
    "'unclassified':20,\n",
    "'residential': 20,  # kmph\n",
    "}\n",
    "\n",
    "# use a GOSTNets function to add on the time factor. 'highway' is the default edge property used to assign speeds and times\n",
    "graph_time = gn.convert_network_to_time(graph, distance_tag = 'length', graph_type = 'drive', speed_dict = speed_d, factor = 1000)"
   ]
  },
  {
   "cell_type": "markdown",
   "metadata": {},
   "source": [
    "Change the geometry to the centroid of each admin region"
   ]
  },
  {
   "cell_type": "code",
   "execution_count": 95,
   "metadata": {},
   "outputs": [],
   "source": [
    "e = centroids.copy()"
   ]
  },
  {
   "cell_type": "code",
   "execution_count": 96,
   "metadata": {},
   "outputs": [],
   "source": [
    "# match these points in e onto the graph, returning the nearest node to each point.\n",
    "e = gn.pandana_snap(graph_time, e)\n",
    "# e = gn.pandana_snap(graph, e)\n",
    "nx.write_gpickle(e, f'{data_path}/network_processing/e.gpickle')\n",
    "# e = nx.read_gpickle('data/e.gpickle')"
   ]
  },
  {
   "cell_type": "code",
   "execution_count": 97,
   "metadata": {},
   "outputs": [
    {
     "data": {
      "text/plain": [
       "(-82.59008979797363, -66.12177085876452, -5.235474014282173, 16.91951980590832)"
      ]
     },
     "execution_count": 97,
     "metadata": {},
     "output_type": "execute_result"
    },
    {
     "data": {
      "image/png": "[encoded data removed]",
      "text/plain": [
       "<Figure size 360x360 with 1 Axes>"
      ]
     },
     "metadata": {
      "needs_background": "light"
     },
     "output_type": "display_data"
    }
   ],
   "source": [
    "ax = gadm.plot(figsize=(5,5), edgecolor=\"lightgrey\")\n",
    "e.plot(ax=ax, color=\"white\", markersize=3)\n",
    "ax.axis(\"off\")"
   ]
  },
  {
   "cell_type": "markdown",
   "metadata": {},
   "source": [
    "Define mapping (district name: nearest node to district centroid)."
   ]
  },
  {
   "cell_type": "code",
   "execution_count": 98,
   "metadata": {},
   "outputs": [],
   "source": [
    "district_nodes = e[[\"NAME_2\", \"NN\"]]"
   ]
  },
  {
   "cell_type": "code",
   "execution_count": 99,
   "metadata": {},
   "outputs": [],
   "source": [
    "district_nodes[\"node\"] = district_nodes['NN'].apply(lambda x: 'N'+ str(x+1).zfill(5))\n",
    "\n",
    "# For mapping areas to node ID later on\n",
    "node_mapping = dict(zip(district_nodes['NAME_2'], district_nodes['node']))\n",
    "\n",
    "# For mapping index number to district names\n",
    "distr_num = dict(zip(district_nodes.index, district_nodes[\"NAME_2\"]))"
   ]
  },
  {
   "cell_type": "code",
   "execution_count": 100,
   "metadata": {},
   "outputs": [],
   "source": [
    "# here we copy and subset the smaller dataset to just the nearest node and the sum of the population in that polygon\n",
    "f = e.copy()\n",
    "f = f[['pop_normalized','NN']]"
   ]
  },
  {
   "cell_type": "code",
   "execution_count": 101,
   "metadata": {},
   "outputs": [],
   "source": [
    "# here i do some shenanigans to get the unique origins (in terms of nodes, NOT centroids) and\n",
    "# associated snapped population into list objects. Don't look to closely, it works\n",
    "f['dummy'] = 1\n",
    "f = f.set_index(['NN','dummy'])\n",
    "f = f.sum(level = 'NN')\n",
    "unique_origins = list(f.index)\n",
    "pop = list(f['pop_normalized'])"
   ]
  },
  {
   "cell_type": "code",
   "execution_count": 102,
   "metadata": {},
   "outputs": [],
   "source": [
    "# Here, we build the demand matrix to accompany the baseline OD matrix.\n",
    "# We normalize the number of trips to 'maxtrips'\n",
    "maxtrips = 100"
   ]
  },
  {
   "cell_type": "code",
   "execution_count": 103,
   "metadata": {},
   "outputs": [],
   "source": [
    "# this parameter allows you to tweak the aggression of the distance decay behaviour on the demand between any two node pairs\n",
    "dist_decay = 1"
   ]
  },
  {
   "cell_type": "code",
   "execution_count": 104,
   "metadata": {},
   "outputs": [],
   "source": [
    "# here we define our fail value, which is returned if a journey cannot be completed between A and B\n",
    "# (implies more than one subgraph or road disrupted)\n",
    "fail_value = -100"
   ]
  },
  {
   "cell_type": "code",
   "execution_count": 105,
   "metadata": {},
   "outputs": [],
   "source": [
    "def Calculate_OD(G, origins, destinations, fail_value, weight = 'time'):\n",
    "    failed = []\n",
    "    ### returns numpy O-D array for shortest travel time between each origins and destination.\n",
    "    ### travel time between o and d is 'answers[o][d]'\n",
    "    ### incompletable trips return the fail_value\n",
    "    # G - a graph Object\n",
    "    # origins - a list of nodes, by ID, that exist in G\n",
    "    # destinations - a list of nodes, by ID, that exist in G\n",
    "    # fail_value - must be a large int. Returned when journet between a node pair can't be completed\n",
    "    # weight - we find shortest paths based on an edge weight - a property of the edges of the graph\n",
    "\n",
    "    # make an empty numpy array to populate with the travel times\n",
    "    OD = np.zeros((len(origins), len(destinations)))\n",
    "\n",
    "    # we iterate through the origins ONLY.\n",
    "    for o in range(0, len(origins)):\n",
    "\n",
    "        # the current origin is selected using numerical indexing from the list of origin nodes\n",
    "        origin = origins[o]\n",
    "\n",
    "        # then, we calculate the shortest path from this origin to ALL potential destination nodes\n",
    "        results_dict = nx.single_source_dijkstra_path_length(G, origin, cutoff = None, weight = weight)\n",
    "\n",
    "        # from this results dictionary, we select just the nodes we need - the destination nodes.\n",
    "        for d in range(0, len(destinations)):\n",
    "\n",
    "            # select a single destination from the destinations list using numerical indexing\n",
    "            destination = destinations[d]\n",
    "\n",
    "            # populate the OD matrix with the correct result at [o][d]\n",
    "            if destination in results_dict.keys():\n",
    "                OD[o][d] = results_dict[destination]\n",
    "            # if we can't find a destination node in the results dict, that node cannot be reached from our origin - return the fail value\n",
    "            else:\n",
    "                OD[o][d] = fail_value\n",
    "                failed.append((o, d))\n",
    "\n",
    "    # we return our completed, disrupted OD matrix as a numpy array\n",
    "    return OD"
   ]
  },
  {
   "cell_type": "code",
   "execution_count": 106,
   "metadata": {},
   "outputs": [],
   "source": [
    "# we set up a blank numpy array for the demand, same length as the origins and destinations\n",
    "demand = np.zeros((len(unique_origins), len(unique_origins)))"
   ]
  },
  {
   "cell_type": "code",
   "execution_count": 107,
   "metadata": {},
   "outputs": [],
   "source": [
    "# we calculate the baseline OD matrix, which has in it the travel time between node pairs assuming no disruption\n",
    "# shortest_time = Calculate_OD(graph_time, unique_origins, unique_origins, fail_value)\n",
    "shortest_time = Calculate_OD(graph_time, unique_origins, unique_origins, fail_value)"
   ]
  },
  {
   "cell_type": "code",
   "execution_count": 108,
   "metadata": {},
   "outputs": [],
   "source": [
    "# we set up a blank numpy array for the demand, same length as the origins and destinations\n",
    "demand = np.zeros((len(unique_origins), len(unique_origins)))"
   ]
  },
  {
   "cell_type": "code",
   "execution_count": 109,
   "metadata": {},
   "outputs": [],
   "source": [
    "# Calculate demand between each origin and destination\n",
    "for o in range(0, len(unique_origins)):\n",
    "    for d in range(0, len(unique_origins)):\n",
    "        if o == d:\n",
    "            # do not insert demand down the spine - no trips where origin = destination\n",
    "            demand[o][d] = 0\n",
    "        else:\n",
    "            # normalize the current travel time versus the largest travel time between nodes in the matrix\n",
    "            normalized_dist = shortest_time[o][d] / shortest_time.max()\n",
    "\n",
    "            # here, demand is a function of the product of the population of the origin and\n",
    "            #  the destination - but reduced by the distance between them. 'Gravity demand'\n",
    "            demand[o][d] = ((pop[o] * pop[d]) * np.exp(-1 * dist_decay * normalized_dist))"
   ]
  },
  {
   "cell_type": "code",
   "execution_count": 110,
   "metadata": {},
   "outputs": [],
   "source": [
    "# we normalize the matrix to the number of maxtrips\n",
    "demand = ((demand / demand.max()) * maxtrips)\n",
    "\n",
    "# we round up - to ensure each journey is made at least once\n",
    "demand = np.ceil(demand).astype(int)"
   ]
  },
  {
   "cell_type": "code",
   "execution_count": 111,
   "metadata": {},
   "outputs": [],
   "source": [
    "demand_df = pd.DataFrame(demand)"
   ]
  },
  {
   "cell_type": "code",
   "execution_count": 112,
   "metadata": {},
   "outputs": [],
   "source": [
    "places = e.NAME_2.tolist()\n",
    "demand_df.columns = places\n",
    "demand_df.index = places"
   ]
  },
  {
   "cell_type": "code",
   "execution_count": 113,
   "metadata": {},
   "outputs": [],
   "source": [
    "OD_proportionality = demand_df.copy()"
   ]
  },
  {
   "cell_type": "code",
   "execution_count": 114,
   "metadata": {},
   "outputs": [],
   "source": [
    "OD_equality = demand_df.copy()\n",
    "\n",
    "for i in range(len(OD_equality)):\n",
    "    for j in range(len(OD_equality)):\n",
    "        if i != j:\n",
    "            OD_equality.iloc[i,j] = 1"
   ]
  },
  {
   "cell_type": "code",
   "execution_count": 115,
   "metadata": {},
   "outputs": [],
   "source": [
    "def equalization_all(od, variable, colname, delta):\n",
    "    '''\n",
    "    assumption: variable dataframe already has 'HASC_2' column\n",
    "    !!!!: changed \"HASC_2\" to \"district\" for now\n",
    "    '''\n",
    "    \n",
    "    od_ = od.copy()\n",
    "    variable_ = variable.copy()\n",
    "    \n",
    "    variable_average = np.mean(variable_[colname]) \n",
    "    \n",
    "    variable_['weight'] = variable_[colname].apply(lambda x: (x/variable_average)**-delta)\n",
    "\n",
    "    i =0\n",
    "    for val in variable_['district']:\n",
    "        weight = variable_.loc[variable_['district']==val]['weight'].iloc[0]\n",
    "        try:\n",
    "            od_[val] *= weight \n",
    "            od_.loc[val] *= weight \n",
    "        except:\n",
    "            continue\n",
    "#             print(val, ' not found')\n",
    "        i +=1\n",
    "    \n",
    "    return od_"
   ]
  },
  {
   "cell_type": "code",
   "execution_count": 116,
   "metadata": {},
   "outputs": [],
   "source": [
    "popu = pd.concat([gadm[\"NAME_2\"], gadm[\"pop_normalized\"]],axis=1)\n",
    "popu.columns = [\"district\", \"population\"]"
   ]
  },
  {
   "cell_type": "code",
   "execution_count": 117,
   "metadata": {},
   "outputs": [],
   "source": [
    "gdp = pd.concat([gadm[\"NAME_2\"], gadm[\"gdp_normalized\"]], axis=1)\n",
    "gdp.columns = [\"district\", \"gdp\"]"
   ]
  },
  {
   "cell_type": "code",
   "execution_count": 118,
   "metadata": {},
   "outputs": [],
   "source": [
    "OD_equalization_GDP_05 = equalization_all(demand_df, gdp, 'gdp', 0.5)\n",
    "OD_equalization_GDP_10 = equalization_all(demand_df, gdp, 'gdp', 1)\n",
    "OD_equalization_GDP_20 = equalization_all(demand_df, gdp, 'gdp', 2)"
   ]
  },
  {
   "cell_type": "code",
   "execution_count": 119,
   "metadata": {},
   "outputs": [],
   "source": [
    "OD_equalization_pop_05 = equalization_all(demand_df, popu, 'population', 0.5)\n",
    "OD_equalization_pop_10 = equalization_all(demand_df, popu, 'population', 1)\n",
    "OD_equalization_pop_20 = equalization_all(demand_df, popu, 'population', 2)"
   ]
  },
  {
   "cell_type": "markdown",
   "metadata": {},
   "source": [
    "TA Lab"
   ]
  },
  {
   "cell_type": "code",
   "execution_count": 120,
   "metadata": {},
   "outputs": [],
   "source": [
    "import sys\n",
    "sys.path.append(f'{os.getcwd()}/../src/ta_lab')\n",
    "from assignment.assign import frank_wolfe\n",
    "from assignment.line import *\n",
    "from assignment.graph import *\n",
    "import time\n",
    "from assignment.shortest_path import ShortestPath as SPP\n",
    "from copy import deepcopy"
   ]
  },
  {
   "cell_type": "code",
   "execution_count": 121,
   "metadata": {},
   "outputs": [],
   "source": [
    "a = gn.edge_gdf_from_graph(graph)"
   ]
  },
  {
   "cell_type": "code",
   "execution_count": 122,
   "metadata": {},
   "outputs": [],
   "source": [
    "g_df = nx.to_pandas_edgelist(graph)\n",
    "g_df['edge'] = g_df.index + 1\n",
    "g_df['edge'] = g_df.index + 1\n",
    "g_df['edge'] = g_df['edge'].apply(lambda x: 'E'+ str(x).zfill(4))\n",
    "g_df = g_df[['edge', 'source', 'target', 'length', 'Wkt']]\n",
    "g_df['capacity'] = 1e15\n",
    "\n",
    "# g_df['capacity'] = capacity\n",
    "g_df['alpha'] = 0.15\n",
    "g_df['beta'] = 4.0\n",
    "g_df['source'] = g_df['source'].apply(lambda x: 'N'+ str(x+1).zfill(5))\n",
    "g_df['target'] = g_df['target'].apply(lambda x: 'N'+ str(x+1).zfill(5))\n",
    "g_df.reset_index(inplace=True)\n",
    "\n",
    "#we have to explicitly say, and assume, that each link is a two-way road\n",
    "g_df2 = g_df.copy()\n",
    "g_df2['source'] = g_df['target']\n",
    "g_df2['target'] = g_df['source']\n",
    "g_df2['edge'] = g_df2.index + 1 + len(g_df)\n",
    "g_df2['edge'] = g_df2['edge'].apply(lambda x: 'E'+ str(x).zfill(4))\n",
    "g_df = g_df.append(g_df2)\n",
    "geoms = g_df[['edge', 'Wkt', 'index']]\n",
    "g_df.drop(['Wkt', 'index'], axis=1, inplace=True)\n",
    "g_df.to_csv(f\"{data_path}/ta-lab/network.csv\", index=False)"
   ]
  },
  {
   "cell_type": "code",
   "execution_count": 123,
   "metadata": {},
   "outputs": [],
   "source": [
    "OD_matrices = [OD_equalization_GDP_05, OD_equalization_GDP_10, OD_equalization_GDP_20,\n",
    "               OD_equalization_pop_05, OD_equalization_pop_10, OD_equalization_pop_20,\n",
    "               OD_proportionality, OD_equality]\n",
    "\n",
    "OD_matrices_names = [\"OD_equalization_GDP_05\", \"OD_equalization_GDP_10\", \"OD_equalization_GDP_20\",\n",
    "                     \"OD_equalization_pop_05\", \"OD_equalization_pop_10\", \"OD_equalization_pop_20\",\n",
    "                     \"OD_proportionality\", \"OD_equality\"]\n",
    "\n",
    "for i in range(len(OD_matrices)):\n",
    "    a = OD_matrices[i].rename(index=node_mapping, columns=node_mapping).to_dict()\n",
    "    OD_matrices[i].to_csv(f'{data_path}/results/{country_ISO}_{OD_matrices_names[i]}.csv')\n",
    "    \n",
    "    with open(f\"{data_path}/ta-lab/{OD_matrices_names[i]}.json\", 'w', encoding='utf-8') as f:\n",
    "        json.dump(a, f, ensure_ascii=False, indent=4)"
   ]
  },
  {
   "cell_type": "code",
   "execution_count": 124,
   "metadata": {},
   "outputs": [],
   "source": [
    "nt = Network('net')\n",
    "node = Vertex(\"a\")"
   ]
  },
  {
   "cell_type": "code",
   "execution_count": 125,
   "metadata": {},
   "outputs": [],
   "source": [
    "with open(f\"{data_path}/ta-lab/network.csv\") as fo:\n",
    "    lines = fo.readlines()[1:]\n",
    "    for ln in lines:\n",
    "        eg = ln.split(',')\n",
    "        nt.add_edge(Edge(eg))\n",
    "# initialize cost\n",
    "nt.init_cost()"
   ]
  },
  {
   "cell_type": "code",
   "execution_count": null,
   "metadata": {},
   "outputs": [],
   "source": [
    "dicts = []\n",
    "start_time = time.time()\n",
    "for i in OD_matrices_names:\n",
    "    vol2 = None\n",
    "    json_file_path = f\"{data_path}/ta-lab/{i}.json\"\n",
    "\n",
    "    with open(json_file_path, 'r') as j:\n",
    "         OD_json = json.loads(j.read())\n",
    "            \n",
    "    origins = list(OD_json.keys())\n",
    "    destinations = list(OD_json.keys())\n",
    "    \n",
    "    vol2 = frank_wolfe(nt, OD_json, origins, destinations)\n",
    "    dicts.append(vol2)\n",
    "    \n",
    "elapsed_time = time.time() - start_time\n",
    "print('time of f-w: ', elapsed_time)"
   ]
  },
  {
   "cell_type": "code",
   "execution_count": null,
   "metadata": {},
   "outputs": [],
   "source": [
    "dfs = []\n",
    "for i in dicts:\n",
    "    vol_df = pd.DataFrame(index=i.keys(), columns=[\"time\"])\n",
    "    vol_df[\"time\"] = i.values()\n",
    "    vol_df.reset_index(inplace=True)\n",
    "    vol_df.rename(columns={\"index\":\"edge\"}, inplace=True)\n",
    "    vol_df = vol_df.merge(geoms, on=\"edge\")\n",
    "    vol_df[\"Wkt\"] = vol_df[\"Wkt\"].apply(lambda x: loads(x))\n",
    "    vol_df = gpd.GeoDataFrame(vol_df, geometry=\"Wkt\")\n",
    "    vol_df.crs={'init' :'epsg:4326'}\n",
    "    dfs.append(vol_df)"
   ]
  },
  {
   "cell_type": "code",
   "execution_count": null,
   "metadata": {},
   "outputs": [],
   "source": [
    "no_duplicated = geoms.drop_duplicates(\"index\")"
   ]
  },
  {
   "cell_type": "code",
   "execution_count": null,
   "metadata": {},
   "outputs": [],
   "source": [
    "combined = dfs[0].copy()\n",
    "combined.rename(columns={\"time\":f\"time_{OD_matrices_names[0][3:]}\"}, inplace=True)\n",
    "for i in range(1, len(dfs)):\n",
    "    combined = combined.merge(dfs[i][[\"edge\", \"time\"]], on=\"edge\").rename(columns={\"time\": f\"time_{OD_matrices_names[i][3:]}\"})\n",
    "    \n",
    "combined = combined[['edge', 'Wkt', 'index', 'time_equalization_GDP_05', 'time_equalization_GDP_10', 'time_equalization_GDP_20',\n",
    "                     'time_equalization_pop_05', 'time_equalization_pop_10', 'time_equalization_pop_20', 'time_proportionality', 'time_equality']]\n",
    "\n",
    "combined.to_csv(f'{data_path}/results/{country_ISO}_time_assigned.csv')"
   ]
  },
  {
   "cell_type": "code",
   "execution_count": null,
   "metadata": {},
   "outputs": [],
   "source": [
    "fig, ax = plt.subplots(ncols=3, nrows=3, figsize=(15,15))\n",
    "k=0\n",
    "for i in range(3):\n",
    "    for j in range(3):\n",
    "        _df = dfs[k]\n",
    "        _df = _df.groupby([\"index\"]).agg({\"time\":\"sum\"}).reset_index()\n",
    "        _df = _df.merge(no_duplicated, on=\"index\")\n",
    "        _df[\"Wkt\"] = _df[\"Wkt\"].apply(lambda x:loads(x))\n",
    "        _df = gpd.GeoDataFrame(_df, geometry=\"Wkt\")\n",
    "        _df.crs = {'init':'epsg:4326'}\n",
    "        _df[_df[\"time\"]==0].to_crs(epsg=3857).plot(color='grey', alpha=0.05, ax=ax[i, j])\n",
    "        _df[_df[\"time\"]!=0].to_crs(epsg=3857).plot(ax=ax[i, j], column=\"time\", cmap='Reds')\n",
    "        ax[i,j].axis('off')\n",
    "        ax[i,j].set_title(OD_matrices_names[k])\n",
    "#         country.to_crs(epsg=3857).plot(ax=ax[i, j], alpha=0.2, color='black')\n",
    "        ctx.add_basemap(ax[i, j], source=ctx.providers.CartoDB.Positron)\n",
    "        _df.to_file(f\"{data_path}/results/{country_ISO}_{OD_matrices_names[k]}.shp\")\n",
    "        k+=1\n",
    "        if k == 8:\n",
    "            break\n",
    "\n",
    "fig.delaxes(ax[2, 2])\n",
    "plt.tight_layout()\n",
    "plt.savefig(f'{data_path}/results/{country_ISO}_combined.png')"
   ]
  },
  {
   "cell_type": "code",
   "execution_count": null,
   "metadata": {},
   "outputs": [],
   "source": [
    "fig, ax = plt.subplots(ncols=3, nrows=3, figsize=(20,20))\n",
    "k=0\n",
    "for i in range(3):\n",
    "    for j in range(3):\n",
    "        sns.heatmap(OD_matrices[k], ax=ax[i, j])\n",
    "        ax[i,j].tick_params(axis='x', labelrotation=60)\n",
    "        ax[i,j].set_title(f'{OD_matrices_names[k]}')\n",
    "        k+=1\n",
    "        if k == 8:\n",
    "            break\n",
    "\n",
    "fig.delaxes(ax[2, 2])\n",
    "plt.tight_layout()\n",
    "plt.savefig(f'{data_path}/results/{country_ISO}_heatmap.png')"
   ]
  },
  {
   "cell_type": "code",
   "execution_count": null,
   "metadata": {},
   "outputs": [],
   "source": [
    "betweenness = pd.DataFrame()\n",
    "for i in range(len(OD_matrices)):\n",
    "    _df = pd.DataFrame(index=np.arange(len(OD_matrices[i])*len(OD_matrices[i])), columns=[\"location_pair\", f\"{OD_matrices_names[i][3:]}\"])\n",
    "    x=0\n",
    "    for j in range(len(OD_matrices[i])):\n",
    "        for k in range(len(OD_matrices[i])):\n",
    "            _df.loc[x, \"location_pair\"] = (OD_matrices[i].index[j], OD_matrices[i].columns[k])\n",
    "            _df.loc[x, f\"{OD_matrices_names[i][3:]}\"] = OD_matrices[i].iloc[j,k]\n",
    "            x+=1\n",
    "    betweenness = pd.concat([betweenness,_df],axis=1)\n",
    "betweenness = betweenness.loc[:,~betweenness.columns.duplicated()]\n",
    "betweenness[\"total\"] = betweenness.apply(lambda x:sum(x[1:]), axis=1)\n",
    "betweenness = betweenness.loc[betweenness['total']>0]"
   ]
  },
  {
   "cell_type": "code",
   "execution_count": null,
   "metadata": {},
   "outputs": [],
   "source": [
    "def ranking(arr):\n",
    "    array = np.array(arr)\n",
    "    temp = array.argsort()\n",
    "    ranks = np.empty_like(temp)\n",
    "    ranks[temp] = np.arange(len(array))\n",
    "    ranks = [len(ranks) - x for x in ranks]\n",
    "    return ranks"
   ]
  },
  {
   "cell_type": "code",
   "execution_count": null,
   "metadata": {},
   "outputs": [],
   "source": [
    "cols = betweenness.columns[1:-1]"
   ]
  },
  {
   "cell_type": "code",
   "execution_count": null,
   "metadata": {},
   "outputs": [],
   "source": [
    "rank_cols=[]\n",
    "for i in cols:\n",
    "    betweenness[f\"rank_{i}\"] = ranking(betweenness[i])\n",
    "    rank_cols.append(f\"rank_{i}\")"
   ]
  },
  {
   "cell_type": "code",
   "execution_count": null,
   "metadata": {},
   "outputs": [],
   "source": [
    "betweenness['rank_min'] = betweenness.apply(lambda row: np.min([row[rank_cols]]), axis=1)\n",
    "betweenness[cols] = betweenness[cols].astype(np.float64)"
   ]
  },
  {
   "cell_type": "code",
   "execution_count": null,
   "metadata": {},
   "outputs": [],
   "source": [
    "# all_ranks = ['rank_proportional', 'rank_equalization_1', 'rank_equalization_2', 'rank_equality'] #rank_cols\n",
    "# all_principles = ['betweenness_Proportional', 'betweenness_Equalization_1', 'betweenness_Equalization_2', 'betweenness_Equality'] #cols\n",
    "# OD_names = ['Proportional', 'Equalization_1', 'Equalization_2', 'Equality'] #cols\n",
    "for i, rank1 in enumerate(rank_cols):\n",
    "    for j, rank2 in enumerate(rank_cols):\n",
    "        if rank1 != rank2 and i < j:\n",
    "            betweenness['rank_min'] = betweenness.apply(lambda row: np.min([row[rank1], \n",
    "                                                                                  row[rank2]]), axis=1)\n",
    "            betweenness_df2 = betweenness.loc[betweenness['rank_min']<100]\n",
    "            \n",
    "            max_rank1 = np.max(betweenness_df2[rank1])\n",
    "            max_rank2 = np.max(betweenness_df2[rank2])\n",
    "            max_rank = np.max([max_rank1, max_rank2])\n",
    "            \n",
    "            fig, ax = plt.subplots(ncols=2, figsize=(10,4))\n",
    "            sns.scatterplot(x=rank1, y=rank2, data=betweenness_df2, s=40, ax=ax[0])\n",
    "            ax[0].plot([-1,max_rank],[-1,max_rank], 'black', linewidth=2, linestyle='--', alpha=0.5)\n",
    "            ax[0].yaxis.label.set_size(15)\n",
    "            ax[0].xaxis.label.set_size(15)\n",
    "\n",
    "            sns.regplot(x=cols[i], y=cols[j], data=betweenness_df2, ax=ax[1], \n",
    "                        scatter_kws={\"color\": \"black\"}, line_kws={\"color\": \"red\"})\n",
    "            ax[1].yaxis.label.set_size(15)\n",
    "            ax[1].xaxis.label.set_size(15)\n",
    "            plt.tight_layout()\n",
    "            plt.savefig(f'{data_path}/results/ranks-scores/{cols[i]}_{cols[j]}.jpeg', dpi=300, bbox_inches='tight')\n",
    "            plt.show()"
   ]
  },
  {
   "cell_type": "code",
   "execution_count": null,
   "metadata": {},
   "outputs": [],
   "source": []
  }
 ],
 "metadata": {
  "kernelspec": {
   "display_name": "tnc",
   "language": "python",
   "name": "tnc"
  },
  "language_info": {
   "codemirror_mode": {
    "name": "ipython",
    "version": 3
   },
   "file_extension": ".py",
   "mimetype": "text/x-python",
   "name": "python",
   "nbconvert_exporter": "python",
   "pygments_lexer": "ipython3",
   "version": "3.7.9"
  }
 },
 "nbformat": 4,
 "nbformat_minor": 4
}
